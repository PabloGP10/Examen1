{
  "nbformat": 4,
  "nbformat_minor": 0,
  "metadata": {
    "colab": {
      "provenance": [],
      "include_colab_link": true
    },
    "kernelspec": {
      "name": "python3",
      "display_name": "Python 3"
    },
    "language_info": {
      "name": "python"
    }
  },
  "cells": [
    {
      "cell_type": "markdown",
      "metadata": {
        "id": "view-in-github",
        "colab_type": "text"
      },
      "source": [
        "<a href=\"https://colab.research.google.com/github/PabloGP10/Examen1/blob/main/lastmile.ipynb\" target=\"_parent\"><img src=\"https://colab.research.google.com/assets/colab-badge.svg\" alt=\"Open In Colab\"/></a>"
      ]
    },
    {
      "cell_type": "code",
      "execution_count": 3,
      "metadata": {
        "id": "SLSmsGwKb0dm"
      },
      "outputs": [],
      "source": [
        "#Importamos las librerias pandas, numpy y matplotlib respectivamente\n",
        "import pandas as pd\n",
        "import numpy as np\n",
        "import matplotlib.pyplot as plt\n"
      ]
    },
    {
      "cell_type": "code",
      "source": [
        "#Cargar archivo csv desde equipo\n",
        "from google.colab import files\n",
        "files.upload()"
      ],
      "metadata": {
        "id": "pjRT3eBZCzIE"
      },
      "execution_count": null,
      "outputs": []
    },
    {
      "cell_type": "code",
      "source": [
        "#Carga desde un archivo .csv sin indice\n",
        "data = pd.read_csv('lastmile_delivery_operations_mit_lift_lab.csv')\n",
        "data.head(5)"
      ],
      "metadata": {
        "id": "P6qDmpHaCz98"
      },
      "execution_count": null,
      "outputs": []
    },
    {
      "cell_type": "code",
      "source": [
        "#Identificar valores nulos por columna\n",
        "valores_nulos=data.isnull().sum()\n",
        "valores_nulos"
      ],
      "metadata": {
        "colab": {
          "base_uri": "https://localhost:8080/"
        },
        "id": "AYrhCrciFFiB",
        "outputId": "d3644caa-1c65-4dc5-e9a9-d982b3f8d305"
      },
      "execution_count": 6,
      "outputs": [
        {
          "output_type": "execute_result",
          "data": {
            "text/plain": [
              "_record_id                                         0\n",
              "_title                                             6\n",
              "_server_updated_at                                 0\n",
              "_updated_by                                        0\n",
              "_geometry                                          0\n",
              "_latitude                                          0\n",
              "_longitude                                         0\n",
              "arrival_of_the_freight_vehicle                     0\n",
              "plates                                             1\n",
              "company_if_visible                                73\n",
              "visit_purpose                                      0\n",
              "type_of_vehicle                                    0\n",
              "number_of_operators                                0\n",
              "refrigerated_truck                                 0\n",
              "type_of_cargo                                      0\n",
              "picture_of_the_parked_freight_vehicle              0\n",
              "departure_of_the_freight_vehicle                   0\n",
              "where_was_the_vehicle_parked                       0\n",
              "while_parked_was_the_engine_running                0\n",
              "used_traffic_cone                                  0\n",
              "vehicles_unloading_door                            0\n",
              "number_of_available_trolleys                       0\n",
              "serving_customer                                 147\n",
              "garage_blocking                                    0\n",
              "accident                                           0\n",
              "describe_the_accident                            182\n",
              "noise                                              0\n",
              "traffic_congestion                                 0\n",
              "maximum_number_of_vehicles_in_the_traffic_jam    180\n",
              "dtype: int64"
            ]
          },
          "metadata": {},
          "execution_count": 6
        }
      ]
    },
    {
      "cell_type": "markdown",
      "source": [
        "**Métodos de Sustitución de Valores Nulos**"
      ],
      "metadata": {
        "id": "dE4P-ouqtHIn"
      }
    },
    {
      "cell_type": "code",
      "source": [
        "#Realizamos una copia del dataframe\n",
        "data2=data.copy()"
      ],
      "metadata": {
        "id": "-SqkDypjsVSG"
      },
      "execution_count": 7,
      "outputs": []
    },
    {
      "cell_type": "code",
      "source": [
        "#Tercer método de sustitución de valores nulos\n",
        "#Sustituir valores nulos por un valor numérico en  concreto \n",
        "data2[\"_title\"]= data2[\"_title\"].fillna(10) \n",
        "data2"
      ],
      "metadata": {
        "id": "DQ0XdfRMFsp6"
      },
      "execution_count": null,
      "outputs": []
    },
    {
      "cell_type": "code",
      "source": [
        "#Corroboramos valores nulos\n",
        "valores_nulos=data2.isnull().sum()\n",
        "valores_nulos"
      ],
      "metadata": {
        "id": "qQGnh7Z_spFb",
        "outputId": "cf46b6c3-3e4a-43bf-a797-ac6a159adc22",
        "colab": {
          "base_uri": "https://localhost:8080/"
        }
      },
      "execution_count": 9,
      "outputs": [
        {
          "output_type": "execute_result",
          "data": {
            "text/plain": [
              "_record_id                                         0\n",
              "_title                                             0\n",
              "_server_updated_at                                 0\n",
              "_updated_by                                        0\n",
              "_geometry                                          0\n",
              "_latitude                                          0\n",
              "_longitude                                         0\n",
              "arrival_of_the_freight_vehicle                     0\n",
              "plates                                             1\n",
              "company_if_visible                                73\n",
              "visit_purpose                                      0\n",
              "type_of_vehicle                                    0\n",
              "number_of_operators                                0\n",
              "refrigerated_truck                                 0\n",
              "type_of_cargo                                      0\n",
              "picture_of_the_parked_freight_vehicle              0\n",
              "departure_of_the_freight_vehicle                   0\n",
              "where_was_the_vehicle_parked                       0\n",
              "while_parked_was_the_engine_running                0\n",
              "used_traffic_cone                                  0\n",
              "vehicles_unloading_door                            0\n",
              "number_of_available_trolleys                       0\n",
              "serving_customer                                 147\n",
              "garage_blocking                                    0\n",
              "accident                                           0\n",
              "describe_the_accident                            182\n",
              "noise                                              0\n",
              "traffic_congestion                                 0\n",
              "maximum_number_of_vehicles_in_the_traffic_jam    180\n",
              "dtype: int64"
            ]
          },
          "metadata": {},
          "execution_count": 9
        }
      ]
    },
    {
      "cell_type": "code",
      "source": [
        "#Sustituir valores nulos por un valor numérico en  concreto \n",
        "data2[\"plates\"]= data2[\"plates\"].fillna(10) \n",
        "data2"
      ],
      "metadata": {
        "id": "BW00UUlkGg8o"
      },
      "execution_count": null,
      "outputs": []
    },
    {
      "cell_type": "code",
      "source": [
        "#Corroboramos valores nulos\n",
        "valores_nulos=data2.isnull().sum()\n",
        "valores_nulos"
      ],
      "metadata": {
        "colab": {
          "base_uri": "https://localhost:8080/"
        },
        "id": "QUfmECLlGw5k",
        "outputId": "31378a55-ea31-4817-87d6-7bae93b2c3bd"
      },
      "execution_count": 11,
      "outputs": [
        {
          "output_type": "execute_result",
          "data": {
            "text/plain": [
              "_record_id                                         0\n",
              "_title                                             0\n",
              "_server_updated_at                                 0\n",
              "_updated_by                                        0\n",
              "_geometry                                          0\n",
              "_latitude                                          0\n",
              "_longitude                                         0\n",
              "arrival_of_the_freight_vehicle                     0\n",
              "plates                                             0\n",
              "company_if_visible                                73\n",
              "visit_purpose                                      0\n",
              "type_of_vehicle                                    0\n",
              "number_of_operators                                0\n",
              "refrigerated_truck                                 0\n",
              "type_of_cargo                                      0\n",
              "picture_of_the_parked_freight_vehicle              0\n",
              "departure_of_the_freight_vehicle                   0\n",
              "where_was_the_vehicle_parked                       0\n",
              "while_parked_was_the_engine_running                0\n",
              "used_traffic_cone                                  0\n",
              "vehicles_unloading_door                            0\n",
              "number_of_available_trolleys                       0\n",
              "serving_customer                                 147\n",
              "garage_blocking                                    0\n",
              "accident                                           0\n",
              "describe_the_accident                            182\n",
              "noise                                              0\n",
              "traffic_congestion                                 0\n",
              "maximum_number_of_vehicles_in_the_traffic_jam    180\n",
              "dtype: int64"
            ]
          },
          "metadata": {},
          "execution_count": 11
        }
      ]
    },
    {
      "cell_type": "code",
      "source": [
        "#Sustituir valores nulos por valores no nulos hacia adelante forward fill\" (\"ffill\")\n",
        "#Filtro por columnas\n",
        "data2[\"company_if_visible\"] =data2[\"company_if_visible\"].fillna(method=\"ffill\") "
      ],
      "metadata": {
        "id": "DJ3bw-jjICzY"
      },
      "execution_count": 12,
      "outputs": []
    },
    {
      "cell_type": "code",
      "source": [
        "#Corroboramos valores nulos\n",
        "valores_nulos=data2.isnull().sum()\n",
        "valores_nulos"
      ],
      "metadata": {
        "colab": {
          "base_uri": "https://localhost:8080/"
        },
        "id": "MA8EqiyCIts_",
        "outputId": "03300b36-52c7-45af-b04e-5ddedcdcf7cf"
      },
      "execution_count": 13,
      "outputs": [
        {
          "output_type": "execute_result",
          "data": {
            "text/plain": [
              "_record_id                                         0\n",
              "_title                                             0\n",
              "_server_updated_at                                 0\n",
              "_updated_by                                        0\n",
              "_geometry                                          0\n",
              "_latitude                                          0\n",
              "_longitude                                         0\n",
              "arrival_of_the_freight_vehicle                     0\n",
              "plates                                             0\n",
              "company_if_visible                                 0\n",
              "visit_purpose                                      0\n",
              "type_of_vehicle                                    0\n",
              "number_of_operators                                0\n",
              "refrigerated_truck                                 0\n",
              "type_of_cargo                                      0\n",
              "picture_of_the_parked_freight_vehicle              0\n",
              "departure_of_the_freight_vehicle                   0\n",
              "where_was_the_vehicle_parked                       0\n",
              "while_parked_was_the_engine_running                0\n",
              "used_traffic_cone                                  0\n",
              "vehicles_unloading_door                            0\n",
              "number_of_available_trolleys                       0\n",
              "serving_customer                                 147\n",
              "garage_blocking                                    0\n",
              "accident                                           0\n",
              "describe_the_accident                            182\n",
              "noise                                              0\n",
              "traffic_congestion                                 0\n",
              "maximum_number_of_vehicles_in_the_traffic_jam    180\n",
              "dtype: int64"
            ]
          },
          "metadata": {},
          "execution_count": 13
        }
      ]
    },
    {
      "cell_type": "code",
      "source": [
        "#Segundo método de sustitución de valores nulos\n",
        "data2[\"serving_customer\"]= data2[\"serving_customer\"].fillna(10) \n",
        "data2 "
      ],
      "metadata": {
        "id": "bj7KkONDI0NE"
      },
      "execution_count": null,
      "outputs": []
    },
    {
      "cell_type": "code",
      "source": [
        "#Corroboramos valores nulos\n",
        "valores_nulos=data2.isnull().sum()\n",
        "valores_nulos"
      ],
      "metadata": {
        "colab": {
          "base_uri": "https://localhost:8080/"
        },
        "id": "WOG4QxeyJF2g",
        "outputId": "7d11a9cb-81b6-4108-f7c5-674dae6b2546"
      },
      "execution_count": 15,
      "outputs": [
        {
          "output_type": "execute_result",
          "data": {
            "text/plain": [
              "_record_id                                         0\n",
              "_title                                             0\n",
              "_server_updated_at                                 0\n",
              "_updated_by                                        0\n",
              "_geometry                                          0\n",
              "_latitude                                          0\n",
              "_longitude                                         0\n",
              "arrival_of_the_freight_vehicle                     0\n",
              "plates                                             0\n",
              "company_if_visible                                 0\n",
              "visit_purpose                                      0\n",
              "type_of_vehicle                                    0\n",
              "number_of_operators                                0\n",
              "refrigerated_truck                                 0\n",
              "type_of_cargo                                      0\n",
              "picture_of_the_parked_freight_vehicle              0\n",
              "departure_of_the_freight_vehicle                   0\n",
              "where_was_the_vehicle_parked                       0\n",
              "while_parked_was_the_engine_running                0\n",
              "used_traffic_cone                                  0\n",
              "vehicles_unloading_door                            0\n",
              "number_of_available_trolleys                       0\n",
              "serving_customer                                   0\n",
              "garage_blocking                                    0\n",
              "accident                                           0\n",
              "describe_the_accident                            182\n",
              "noise                                              0\n",
              "traffic_congestion                                 0\n",
              "maximum_number_of_vehicles_in_the_traffic_jam    180\n",
              "dtype: int64"
            ]
          },
          "metadata": {},
          "execution_count": 15
        }
      ]
    },
    {
      "cell_type": "code",
      "source": [
        "#Segundo método de sustitución de valores nulos\n",
        "data2[\"describe_the_accident\"]= data2[\"describe_the_accident\"].fillna(10) \n",
        "data2 "
      ],
      "metadata": {
        "id": "CAXUqrQmtmwo"
      },
      "execution_count": null,
      "outputs": []
    },
    {
      "cell_type": "code",
      "source": [
        "#Corroboramos valores nulos\n",
        "valores_nulos=data2.isnull().sum()\n",
        "valores_nulos"
      ],
      "metadata": {
        "id": "FoNGzV2rtxSs",
        "outputId": "6d1e33a6-1a31-49bb-de9c-61bef13aacf7",
        "colab": {
          "base_uri": "https://localhost:8080/"
        }
      },
      "execution_count": 17,
      "outputs": [
        {
          "output_type": "execute_result",
          "data": {
            "text/plain": [
              "_record_id                                         0\n",
              "_title                                             0\n",
              "_server_updated_at                                 0\n",
              "_updated_by                                        0\n",
              "_geometry                                          0\n",
              "_latitude                                          0\n",
              "_longitude                                         0\n",
              "arrival_of_the_freight_vehicle                     0\n",
              "plates                                             0\n",
              "company_if_visible                                 0\n",
              "visit_purpose                                      0\n",
              "type_of_vehicle                                    0\n",
              "number_of_operators                                0\n",
              "refrigerated_truck                                 0\n",
              "type_of_cargo                                      0\n",
              "picture_of_the_parked_freight_vehicle              0\n",
              "departure_of_the_freight_vehicle                   0\n",
              "where_was_the_vehicle_parked                       0\n",
              "while_parked_was_the_engine_running                0\n",
              "used_traffic_cone                                  0\n",
              "vehicles_unloading_door                            0\n",
              "number_of_available_trolleys                       0\n",
              "serving_customer                                   0\n",
              "garage_blocking                                    0\n",
              "accident                                           0\n",
              "describe_the_accident                              0\n",
              "noise                                              0\n",
              "traffic_congestion                                 0\n",
              "maximum_number_of_vehicles_in_the_traffic_jam    180\n",
              "dtype: int64"
            ]
          },
          "metadata": {},
          "execution_count": 17
        }
      ]
    },
    {
      "cell_type": "code",
      "source": [
        "data2[\"maximum_number_of_vehicles_in_the_traffic_jam\"]=data2[\"maximum_number_of_vehicles_in_the_traffic_jam\"].fillna(round(data[\"maximum_number_of_vehicles_in_the_traffic_jam\"].median(),1))\n",
        "data2\n"
      ],
      "metadata": {
        "id": "Lb6oV6YIuDfF"
      },
      "execution_count": null,
      "outputs": []
    },
    {
      "cell_type": "code",
      "source": [
        "#Corroboramos valores nulos\n",
        "valores_nulos=data2.isnull().sum()\n",
        "valores_nulos"
      ],
      "metadata": {
        "id": "5VlECt90uP8K",
        "colab": {
          "base_uri": "https://localhost:8080/"
        },
        "outputId": "73f5ecf4-afe5-47b4-85c2-c6ccc2bc0f57"
      },
      "execution_count": 19,
      "outputs": [
        {
          "output_type": "execute_result",
          "data": {
            "text/plain": [
              "_record_id                                       0\n",
              "_title                                           0\n",
              "_server_updated_at                               0\n",
              "_updated_by                                      0\n",
              "_geometry                                        0\n",
              "_latitude                                        0\n",
              "_longitude                                       0\n",
              "arrival_of_the_freight_vehicle                   0\n",
              "plates                                           0\n",
              "company_if_visible                               0\n",
              "visit_purpose                                    0\n",
              "type_of_vehicle                                  0\n",
              "number_of_operators                              0\n",
              "refrigerated_truck                               0\n",
              "type_of_cargo                                    0\n",
              "picture_of_the_parked_freight_vehicle            0\n",
              "departure_of_the_freight_vehicle                 0\n",
              "where_was_the_vehicle_parked                     0\n",
              "while_parked_was_the_engine_running              0\n",
              "used_traffic_cone                                0\n",
              "vehicles_unloading_door                          0\n",
              "number_of_available_trolleys                     0\n",
              "serving_customer                                 0\n",
              "garage_blocking                                  0\n",
              "accident                                         0\n",
              "describe_the_accident                            0\n",
              "noise                                            0\n",
              "traffic_congestion                               0\n",
              "maximum_number_of_vehicles_in_the_traffic_jam    0\n",
              "dtype: int64"
            ]
          },
          "metadata": {},
          "execution_count": 19
        }
      ]
    },
    {
      "cell_type": "markdown",
      "source": [
        "**Método de Eliminación de valores nulos**"
      ],
      "metadata": {
        "id": "AElvPY4nyJOx"
      }
    },
    {
      "cell_type": "code",
      "source": [
        "#Identificar valores nulos por columna\n",
        "valores_nulos=data2.isnull().sum()\n",
        "valores_nulos"
      ],
      "metadata": {
        "id": "kN35CtlLyOKg",
        "colab": {
          "base_uri": "https://localhost:8080/"
        },
        "outputId": "1f714754-de2d-4abd-d8f2-c56a8f06bc6f"
      },
      "execution_count": 20,
      "outputs": [
        {
          "output_type": "execute_result",
          "data": {
            "text/plain": [
              "_record_id                                       0\n",
              "_title                                           0\n",
              "_server_updated_at                               0\n",
              "_updated_by                                      0\n",
              "_geometry                                        0\n",
              "_latitude                                        0\n",
              "_longitude                                       0\n",
              "arrival_of_the_freight_vehicle                   0\n",
              "plates                                           0\n",
              "company_if_visible                               0\n",
              "visit_purpose                                    0\n",
              "type_of_vehicle                                  0\n",
              "number_of_operators                              0\n",
              "refrigerated_truck                               0\n",
              "type_of_cargo                                    0\n",
              "picture_of_the_parked_freight_vehicle            0\n",
              "departure_of_the_freight_vehicle                 0\n",
              "where_was_the_vehicle_parked                     0\n",
              "while_parked_was_the_engine_running              0\n",
              "used_traffic_cone                                0\n",
              "vehicles_unloading_door                          0\n",
              "number_of_available_trolleys                     0\n",
              "serving_customer                                 0\n",
              "garage_blocking                                  0\n",
              "accident                                         0\n",
              "describe_the_accident                            0\n",
              "noise                                            0\n",
              "traffic_congestion                               0\n",
              "maximum_number_of_vehicles_in_the_traffic_jam    0\n",
              "dtype: int64"
            ]
          },
          "metadata": {},
          "execution_count": 20
        }
      ]
    },
    {
      "cell_type": "code",
      "source": [
        "#Realizamos una copia del dataframe\n",
        "data3=data.copy()"
      ],
      "metadata": {
        "id": "4tNYCv10yn9V"
      },
      "execution_count": 21,
      "outputs": []
    },
    {
      "cell_type": "code",
      "source": [
        "#Eliminamos filas con nulos\n",
        "data4= data2.dropna(0)\n",
        "data4"
      ],
      "metadata": {
        "id": "6g8PDgqRyssZ"
      },
      "execution_count": null,
      "outputs": []
    },
    {
      "cell_type": "code",
      "source": [
        "#Identificar valores nulos por columna\n",
        "valores_nulos=data4.isnull().sum()\n",
        "valores_nulos"
      ],
      "metadata": {
        "id": "M3TAKt_ayxVo",
        "outputId": "6fa189a6-dd5b-4898-b3a3-95aa84c12156",
        "colab": {
          "base_uri": "https://localhost:8080/"
        }
      },
      "execution_count": 23,
      "outputs": [
        {
          "output_type": "execute_result",
          "data": {
            "text/plain": [
              "_record_id                                       0\n",
              "_title                                           0\n",
              "_server_updated_at                               0\n",
              "_updated_by                                      0\n",
              "_geometry                                        0\n",
              "_latitude                                        0\n",
              "_longitude                                       0\n",
              "arrival_of_the_freight_vehicle                   0\n",
              "plates                                           0\n",
              "company_if_visible                               0\n",
              "visit_purpose                                    0\n",
              "type_of_vehicle                                  0\n",
              "number_of_operators                              0\n",
              "refrigerated_truck                               0\n",
              "type_of_cargo                                    0\n",
              "picture_of_the_parked_freight_vehicle            0\n",
              "departure_of_the_freight_vehicle                 0\n",
              "where_was_the_vehicle_parked                     0\n",
              "while_parked_was_the_engine_running              0\n",
              "used_traffic_cone                                0\n",
              "vehicles_unloading_door                          0\n",
              "number_of_available_trolleys                     0\n",
              "serving_customer                                 0\n",
              "garage_blocking                                  0\n",
              "accident                                         0\n",
              "describe_the_accident                            0\n",
              "noise                                            0\n",
              "traffic_congestion                               0\n",
              "maximum_number_of_vehicles_in_the_traffic_jam    0\n",
              "dtype: int64"
            ]
          },
          "metadata": {},
          "execution_count": 23
        }
      ]
    },
    {
      "cell_type": "code",
      "source": [
        "#Identificar valores nulos por columna\n",
        "valores_nulos=data4.isnull().sum().sum()\n",
        "valores_nulos"
      ],
      "metadata": {
        "id": "r-2oAKNK1pVC",
        "outputId": "fc7ee2dc-ff12-4724-b393-d4f2dcd4e6ff",
        "colab": {
          "base_uri": "https://localhost:8080/"
        }
      },
      "execution_count": 32,
      "outputs": [
        {
          "output_type": "execute_result",
          "data": {
            "text/plain": [
              "0"
            ]
          },
          "metadata": {},
          "execution_count": 32
        }
      ]
    },
    {
      "cell_type": "code",
      "source": [
        "#convertir a archivo csv\n",
        "data2.to_csv(\"lastmile_Sin_Nulos.csv\")"
      ],
      "metadata": {
        "id": "d-i5yNYg1tVa"
      },
      "execution_count": 38,
      "outputs": []
    },
    {
      "cell_type": "code",
      "source": [
        "#descargar archivo filtrado en csv\n",
        "from google.colab import files \n",
        "  \n",
        "files.download(\"lastmile_Sin_Nulos.csv\")"
      ],
      "metadata": {
        "id": "3nchni6E2ZOp",
        "outputId": "b2f86827-08c6-42ba-aa9c-0d61bcf4d3c6",
        "colab": {
          "base_uri": "https://localhost:8080/",
          "height": 17
        }
      },
      "execution_count": 39,
      "outputs": [
        {
          "output_type": "display_data",
          "data": {
            "text/plain": [
              "<IPython.core.display.Javascript object>"
            ],
            "application/javascript": [
              "\n",
              "    async function download(id, filename, size) {\n",
              "      if (!google.colab.kernel.accessAllowed) {\n",
              "        return;\n",
              "      }\n",
              "      const div = document.createElement('div');\n",
              "      const label = document.createElement('label');\n",
              "      label.textContent = `Downloading \"${filename}\": `;\n",
              "      div.appendChild(label);\n",
              "      const progress = document.createElement('progress');\n",
              "      progress.max = size;\n",
              "      div.appendChild(progress);\n",
              "      document.body.appendChild(div);\n",
              "\n",
              "      const buffers = [];\n",
              "      let downloaded = 0;\n",
              "\n",
              "      const channel = await google.colab.kernel.comms.open(id);\n",
              "      // Send a message to notify the kernel that we're ready.\n",
              "      channel.send({})\n",
              "\n",
              "      for await (const message of channel.messages) {\n",
              "        // Send a message to notify the kernel that we're ready.\n",
              "        channel.send({})\n",
              "        if (message.buffers) {\n",
              "          for (const buffer of message.buffers) {\n",
              "            buffers.push(buffer);\n",
              "            downloaded += buffer.byteLength;\n",
              "            progress.value = downloaded;\n",
              "          }\n",
              "        }\n",
              "      }\n",
              "      const blob = new Blob(buffers, {type: 'application/binary'});\n",
              "      const a = document.createElement('a');\n",
              "      a.href = window.URL.createObjectURL(blob);\n",
              "      a.download = filename;\n",
              "      div.appendChild(a);\n",
              "      a.click();\n",
              "      div.remove();\n",
              "    }\n",
              "  "
            ]
          },
          "metadata": {}
        },
        {
          "output_type": "display_data",
          "data": {
            "text/plain": [
              "<IPython.core.display.Javascript object>"
            ],
            "application/javascript": [
              "download(\"download_580a600a-006c-4374-a80b-b0c4497dfeb0\", \"lastmile_Sin_Nulos.csv\", 87225)"
            ]
          },
          "metadata": {}
        }
      ]
    },
    {
      "cell_type": "markdown",
      "source": [
        "**OUTLIERS**\n"
      ],
      "metadata": {
        "id": "KmgnzrFRKKHT"
      }
    },
    {
      "cell_type": "code",
      "source": [
        "y=data\n"
      ],
      "metadata": {
        "id": "ZytBk8KOCKiQ"
      },
      "execution_count": 24,
      "outputs": []
    },
    {
      "cell_type": "code",
      "source": [
        "#Identificamos las variables no numéricas para eliminar columnas incecesarias \n",
        "#Verificamos información del DataFrame\n",
        "y.info(29)"
      ],
      "metadata": {
        "colab": {
          "base_uri": "https://localhost:8080/"
        },
        "id": "Eot-WieRFE22",
        "outputId": "dd289ac2-0413-46c5-fa6b-515c1e8f9a1a"
      },
      "execution_count": 25,
      "outputs": [
        {
          "output_type": "stream",
          "name": "stdout",
          "text": [
            "<class 'pandas.core.frame.DataFrame'>\n",
            "RangeIndex: 182 entries, 0 to 181\n",
            "Data columns (total 29 columns):\n",
            " #   Column                                         Non-Null Count  Dtype  \n",
            "---  ------                                         --------------  -----  \n",
            " 0   _record_id                                     182 non-null    object \n",
            " 1   _title                                         176 non-null    object \n",
            " 2   _server_updated_at                             182 non-null    object \n",
            " 3   _updated_by                                    182 non-null    object \n",
            " 4   _geometry                                      182 non-null    object \n",
            " 5   _latitude                                      182 non-null    float64\n",
            " 6   _longitude                                     182 non-null    float64\n",
            " 7   arrival_of_the_freight_vehicle                 182 non-null    object \n",
            " 8   plates                                         181 non-null    object \n",
            " 9   company_if_visible                             109 non-null    object \n",
            " 10  visit_purpose                                  182 non-null    object \n",
            " 11  type_of_vehicle                                182 non-null    object \n",
            " 12  number_of_operators                            182 non-null    int64  \n",
            " 13  refrigerated_truck                             182 non-null    object \n",
            " 14  type_of_cargo                                  182 non-null    object \n",
            " 15  picture_of_the_parked_freight_vehicle          182 non-null    object \n",
            " 16  departure_of_the_freight_vehicle               182 non-null    object \n",
            " 17  where_was_the_vehicle_parked                   182 non-null    object \n",
            " 18  while_parked_was_the_engine_running            182 non-null    object \n",
            " 19  used_traffic_cone                              182 non-null    object \n",
            " 20  vehicles_unloading_door                        182 non-null    object \n",
            " 21  number_of_available_trolleys                   182 non-null    int64  \n",
            " 22  serving_customer                               35 non-null     float64\n",
            " 23  garage_blocking                                182 non-null    object \n",
            " 24  accident                                       182 non-null    object \n",
            " 25  describe_the_accident                          0 non-null      float64\n",
            " 26  noise                                          182 non-null    object \n",
            " 27  traffic_congestion                             182 non-null    object \n",
            " 28  maximum_number_of_vehicles_in_the_traffic_jam  2 non-null      float64\n",
            "dtypes: float64(5), int64(2), object(22)\n",
            "memory usage: 41.4+ KB\n"
          ]
        }
      ]
    },
    {
      "cell_type": "code",
      "source": [
        "#aplicamos filtro de columnas para filtrar las columnas con variables numéricas (se descartaron las columnas que muestran números de telofóno y las coordenadas) \n",
        "y1=y.iloc[:,[5,6,12,21,22,25,28,]]#columnas no consecutivas\n",
        "y1"
      ],
      "metadata": {
        "id": "-A7ALvPmFdOT"
      },
      "execution_count": null,
      "outputs": []
    },
    {
      "cell_type": "code",
      "source": [
        "#Método aplicando Cuartiles. Encuentro cuartiles 0.25 y 0.75\n",
        "y=y1\n",
        "\n",
        "percentile25=y.quantile(0.25) #Q1\n",
        "percentile75=y.quantile(0.75) #Q3\n",
        "iqr= percentile75 - percentile25\n",
        "\n",
        "Limite_Superior_iqr= percentile75 + 1.5*iqr\n",
        "Limite_Inferior_iqr= percentile25 - 1.5*iqr\n",
        "print(\"Limite superior permitido\", Limite_Superior_iqr)\n",
        "print(\"Limite inferior permitido\", Limite_Inferior_iqr)"
      ],
      "metadata": {
        "colab": {
          "base_uri": "https://localhost:8080/"
        },
        "id": "76NtHL5eF73W",
        "outputId": "d112dbe7-c5cf-4bbb-bc75-39694b6f04aa"
      },
      "execution_count": 27,
      "outputs": [
        {
          "output_type": "stream",
          "name": "stdout",
          "text": [
            "Limite superior permitido _latitude                                        19.123517\n",
            "_longitude                                      -98.098434\n",
            "number_of_operators                               3.500000\n",
            "number_of_available_trolleys                      2.500000\n",
            "serving_customer                                  1.000000\n",
            "describe_the_accident                                  NaN\n",
            "maximum_number_of_vehicles_in_the_traffic_jam    11.000000\n",
            "dtype: float64\n",
            "Limite inferior permitido _latitude                                        18.961271\n",
            "_longitude                                      -98.366619\n",
            "number_of_operators                              -0.500000\n",
            "number_of_available_trolleys                     -1.500000\n",
            "serving_customer                                  1.000000\n",
            "describe_the_accident                                  NaN\n",
            "maximum_number_of_vehicles_in_the_traffic_jam    -1.000000\n",
            "dtype: float64\n"
          ]
        }
      ]
    },
    {
      "cell_type": "code",
      "source": [
        "#Encontramos Outliers del Dataframe\n",
        "outliers_iqr= y1[(y>Limite_Superior_iqr)|(y<Limite_Inferior_iqr)]\n",
        "outliers_iqr"
      ],
      "metadata": {
        "id": "wZT8CRHfGNrp"
      },
      "execution_count": null,
      "outputs": []
    },
    {
      "cell_type": "code",
      "source": [
        "#Obtenemos datos limpios del Dataframe\n",
        "data3_iqr= y1[(y<=Limite_Superior_iqr)&(y>=Limite_Inferior_iqr)]\n",
        "data3_iqr"
      ],
      "metadata": {
        "colab": {
          "base_uri": "https://localhost:8080/",
          "height": 424
        },
        "id": "WIEm25wWGXp2",
        "outputId": "d47c6528-8680-44c7-b65e-165550312c67"
      },
      "execution_count": 29,
      "outputs": [
        {
          "output_type": "execute_result",
          "data": {
            "text/plain": [
              "     _latitude  _longitude  number_of_operators  number_of_available_trolleys  \\\n",
              "0    19.056893  -98.233489                  1.0                           1.0   \n",
              "1    19.056849  -98.233484                  2.0                           1.0   \n",
              "2    19.059677  -98.233916                  1.0                           0.0   \n",
              "3    19.062695  -98.228567                  1.0                           2.0   \n",
              "4    19.062724  -98.231397                  2.0                           2.0   \n",
              "..         ...         ...                  ...                           ...   \n",
              "177  19.043612  -98.194933                  1.0                           0.0   \n",
              "178  19.043607  -98.194856                  1.0                           0.0   \n",
              "179  19.043336  -98.194503                  1.0                           1.0   \n",
              "180  19.043576  -98.194873                  2.0                           0.0   \n",
              "181  19.043590  -98.194901                  2.0                           1.0   \n",
              "\n",
              "     serving_customer  describe_the_accident  \\\n",
              "0                 NaN                    NaN   \n",
              "1                 NaN                    NaN   \n",
              "2                 1.0                    NaN   \n",
              "3                 NaN                    NaN   \n",
              "4                 NaN                    NaN   \n",
              "..                ...                    ...   \n",
              "177               NaN                    NaN   \n",
              "178               NaN                    NaN   \n",
              "179               NaN                    NaN   \n",
              "180               NaN                    NaN   \n",
              "181               NaN                    NaN   \n",
              "\n",
              "     maximum_number_of_vehicles_in_the_traffic_jam  \n",
              "0                                              NaN  \n",
              "1                                              NaN  \n",
              "2                                              NaN  \n",
              "3                                              NaN  \n",
              "4                                              NaN  \n",
              "..                                             ...  \n",
              "177                                            NaN  \n",
              "178                                            NaN  \n",
              "179                                            NaN  \n",
              "180                                            NaN  \n",
              "181                                            NaN  \n",
              "\n",
              "[182 rows x 7 columns]"
            ],
            "text/html": [
              "\n",
              "  <div id=\"df-8f8fa093-07a1-438b-ad8a-3c34a2c2cadd\">\n",
              "    <div class=\"colab-df-container\">\n",
              "      <div>\n",
              "<style scoped>\n",
              "    .dataframe tbody tr th:only-of-type {\n",
              "        vertical-align: middle;\n",
              "    }\n",
              "\n",
              "    .dataframe tbody tr th {\n",
              "        vertical-align: top;\n",
              "    }\n",
              "\n",
              "    .dataframe thead th {\n",
              "        text-align: right;\n",
              "    }\n",
              "</style>\n",
              "<table border=\"1\" class=\"dataframe\">\n",
              "  <thead>\n",
              "    <tr style=\"text-align: right;\">\n",
              "      <th></th>\n",
              "      <th>_latitude</th>\n",
              "      <th>_longitude</th>\n",
              "      <th>number_of_operators</th>\n",
              "      <th>number_of_available_trolleys</th>\n",
              "      <th>serving_customer</th>\n",
              "      <th>describe_the_accident</th>\n",
              "      <th>maximum_number_of_vehicles_in_the_traffic_jam</th>\n",
              "    </tr>\n",
              "  </thead>\n",
              "  <tbody>\n",
              "    <tr>\n",
              "      <th>0</th>\n",
              "      <td>19.056893</td>\n",
              "      <td>-98.233489</td>\n",
              "      <td>1.0</td>\n",
              "      <td>1.0</td>\n",
              "      <td>NaN</td>\n",
              "      <td>NaN</td>\n",
              "      <td>NaN</td>\n",
              "    </tr>\n",
              "    <tr>\n",
              "      <th>1</th>\n",
              "      <td>19.056849</td>\n",
              "      <td>-98.233484</td>\n",
              "      <td>2.0</td>\n",
              "      <td>1.0</td>\n",
              "      <td>NaN</td>\n",
              "      <td>NaN</td>\n",
              "      <td>NaN</td>\n",
              "    </tr>\n",
              "    <tr>\n",
              "      <th>2</th>\n",
              "      <td>19.059677</td>\n",
              "      <td>-98.233916</td>\n",
              "      <td>1.0</td>\n",
              "      <td>0.0</td>\n",
              "      <td>1.0</td>\n",
              "      <td>NaN</td>\n",
              "      <td>NaN</td>\n",
              "    </tr>\n",
              "    <tr>\n",
              "      <th>3</th>\n",
              "      <td>19.062695</td>\n",
              "      <td>-98.228567</td>\n",
              "      <td>1.0</td>\n",
              "      <td>2.0</td>\n",
              "      <td>NaN</td>\n",
              "      <td>NaN</td>\n",
              "      <td>NaN</td>\n",
              "    </tr>\n",
              "    <tr>\n",
              "      <th>4</th>\n",
              "      <td>19.062724</td>\n",
              "      <td>-98.231397</td>\n",
              "      <td>2.0</td>\n",
              "      <td>2.0</td>\n",
              "      <td>NaN</td>\n",
              "      <td>NaN</td>\n",
              "      <td>NaN</td>\n",
              "    </tr>\n",
              "    <tr>\n",
              "      <th>...</th>\n",
              "      <td>...</td>\n",
              "      <td>...</td>\n",
              "      <td>...</td>\n",
              "      <td>...</td>\n",
              "      <td>...</td>\n",
              "      <td>...</td>\n",
              "      <td>...</td>\n",
              "    </tr>\n",
              "    <tr>\n",
              "      <th>177</th>\n",
              "      <td>19.043612</td>\n",
              "      <td>-98.194933</td>\n",
              "      <td>1.0</td>\n",
              "      <td>0.0</td>\n",
              "      <td>NaN</td>\n",
              "      <td>NaN</td>\n",
              "      <td>NaN</td>\n",
              "    </tr>\n",
              "    <tr>\n",
              "      <th>178</th>\n",
              "      <td>19.043607</td>\n",
              "      <td>-98.194856</td>\n",
              "      <td>1.0</td>\n",
              "      <td>0.0</td>\n",
              "      <td>NaN</td>\n",
              "      <td>NaN</td>\n",
              "      <td>NaN</td>\n",
              "    </tr>\n",
              "    <tr>\n",
              "      <th>179</th>\n",
              "      <td>19.043336</td>\n",
              "      <td>-98.194503</td>\n",
              "      <td>1.0</td>\n",
              "      <td>1.0</td>\n",
              "      <td>NaN</td>\n",
              "      <td>NaN</td>\n",
              "      <td>NaN</td>\n",
              "    </tr>\n",
              "    <tr>\n",
              "      <th>180</th>\n",
              "      <td>19.043576</td>\n",
              "      <td>-98.194873</td>\n",
              "      <td>2.0</td>\n",
              "      <td>0.0</td>\n",
              "      <td>NaN</td>\n",
              "      <td>NaN</td>\n",
              "      <td>NaN</td>\n",
              "    </tr>\n",
              "    <tr>\n",
              "      <th>181</th>\n",
              "      <td>19.043590</td>\n",
              "      <td>-98.194901</td>\n",
              "      <td>2.0</td>\n",
              "      <td>1.0</td>\n",
              "      <td>NaN</td>\n",
              "      <td>NaN</td>\n",
              "      <td>NaN</td>\n",
              "    </tr>\n",
              "  </tbody>\n",
              "</table>\n",
              "<p>182 rows × 7 columns</p>\n",
              "</div>\n",
              "      <button class=\"colab-df-convert\" onclick=\"convertToInteractive('df-8f8fa093-07a1-438b-ad8a-3c34a2c2cadd')\"\n",
              "              title=\"Convert this dataframe to an interactive table.\"\n",
              "              style=\"display:none;\">\n",
              "        \n",
              "  <svg xmlns=\"http://www.w3.org/2000/svg\" height=\"24px\"viewBox=\"0 0 24 24\"\n",
              "       width=\"24px\">\n",
              "    <path d=\"M0 0h24v24H0V0z\" fill=\"none\"/>\n",
              "    <path d=\"M18.56 5.44l.94 2.06.94-2.06 2.06-.94-2.06-.94-.94-2.06-.94 2.06-2.06.94zm-11 1L8.5 8.5l.94-2.06 2.06-.94-2.06-.94L8.5 2.5l-.94 2.06-2.06.94zm10 10l.94 2.06.94-2.06 2.06-.94-2.06-.94-.94-2.06-.94 2.06-2.06.94z\"/><path d=\"M17.41 7.96l-1.37-1.37c-.4-.4-.92-.59-1.43-.59-.52 0-1.04.2-1.43.59L10.3 9.45l-7.72 7.72c-.78.78-.78 2.05 0 2.83L4 21.41c.39.39.9.59 1.41.59.51 0 1.02-.2 1.41-.59l7.78-7.78 2.81-2.81c.8-.78.8-2.07 0-2.86zM5.41 20L4 18.59l7.72-7.72 1.47 1.35L5.41 20z\"/>\n",
              "  </svg>\n",
              "      </button>\n",
              "      \n",
              "  <style>\n",
              "    .colab-df-container {\n",
              "      display:flex;\n",
              "      flex-wrap:wrap;\n",
              "      gap: 12px;\n",
              "    }\n",
              "\n",
              "    .colab-df-convert {\n",
              "      background-color: #E8F0FE;\n",
              "      border: none;\n",
              "      border-radius: 50%;\n",
              "      cursor: pointer;\n",
              "      display: none;\n",
              "      fill: #1967D2;\n",
              "      height: 32px;\n",
              "      padding: 0 0 0 0;\n",
              "      width: 32px;\n",
              "    }\n",
              "\n",
              "    .colab-df-convert:hover {\n",
              "      background-color: #E2EBFA;\n",
              "      box-shadow: 0px 1px 2px rgba(60, 64, 67, 0.3), 0px 1px 3px 1px rgba(60, 64, 67, 0.15);\n",
              "      fill: #174EA6;\n",
              "    }\n",
              "\n",
              "    [theme=dark] .colab-df-convert {\n",
              "      background-color: #3B4455;\n",
              "      fill: #D2E3FC;\n",
              "    }\n",
              "\n",
              "    [theme=dark] .colab-df-convert:hover {\n",
              "      background-color: #434B5C;\n",
              "      box-shadow: 0px 1px 3px 1px rgba(0, 0, 0, 0.15);\n",
              "      filter: drop-shadow(0px 1px 2px rgba(0, 0, 0, 0.3));\n",
              "      fill: #FFFFFF;\n",
              "    }\n",
              "  </style>\n",
              "\n",
              "      <script>\n",
              "        const buttonEl =\n",
              "          document.querySelector('#df-8f8fa093-07a1-438b-ad8a-3c34a2c2cadd button.colab-df-convert');\n",
              "        buttonEl.style.display =\n",
              "          google.colab.kernel.accessAllowed ? 'block' : 'none';\n",
              "\n",
              "        async function convertToInteractive(key) {\n",
              "          const element = document.querySelector('#df-8f8fa093-07a1-438b-ad8a-3c34a2c2cadd');\n",
              "          const dataTable =\n",
              "            await google.colab.kernel.invokeFunction('convertToInteractive',\n",
              "                                                     [key], {});\n",
              "          if (!dataTable) return;\n",
              "\n",
              "          const docLinkHtml = 'Like what you see? Visit the ' +\n",
              "            '<a target=\"_blank\" href=https://colab.research.google.com/notebooks/data_table.ipynb>data table notebook</a>'\n",
              "            + ' to learn more about interactive tables.';\n",
              "          element.innerHTML = '';\n",
              "          dataTable['output_type'] = 'display_data';\n",
              "          await google.colab.output.renderOutput(dataTable, element);\n",
              "          const docLink = document.createElement('div');\n",
              "          docLink.innerHTML = docLinkHtml;\n",
              "          element.appendChild(docLink);\n",
              "        }\n",
              "      </script>\n",
              "    </div>\n",
              "  </div>\n",
              "  "
            ]
          },
          "metadata": {},
          "execution_count": 29
        }
      ]
    },
    {
      "cell_type": "code",
      "source": [
        "#Corroboramos valores nulos del dataframe LIMPIO\n",
        "valores_nulos=data3_iqr.isnull().sum()\n",
        "valores_nulos"
      ],
      "metadata": {
        "colab": {
          "base_uri": "https://localhost:8080/"
        },
        "id": "vaoRW7RtGjWU",
        "outputId": "871e1255-f4f6-459b-8a12-008874a3d52d"
      },
      "execution_count": 30,
      "outputs": [
        {
          "output_type": "execute_result",
          "data": {
            "text/plain": [
              "_latitude                                          0\n",
              "_longitude                                         0\n",
              "number_of_operators                               10\n",
              "number_of_available_trolleys                       2\n",
              "serving_customer                                 147\n",
              "describe_the_accident                            182\n",
              "maximum_number_of_vehicles_in_the_traffic_jam    180\n",
              "dtype: int64"
            ]
          },
          "metadata": {},
          "execution_count": 30
        }
      ]
    },
    {
      "cell_type": "code",
      "source": [
        "#Reemplazamos valores atípicos (nulos) del dataframe con \"mean\"\n",
        "#Realizamos una copia del dataframe\n",
        "data4_iqr=data3_iqr.copy()\n",
        "data4_iqr=data4_iqr.fillna(round(data3_iqr.mean(),1))\n",
        "data4_iqr"
      ],
      "metadata": {
        "colab": {
          "base_uri": "https://localhost:8080/",
          "height": 424
        },
        "id": "SNCXl5xRGrKR",
        "outputId": "e3e64aa2-857e-4a70-bac9-41887ea0a7f8"
      },
      "execution_count": 31,
      "outputs": [
        {
          "output_type": "execute_result",
          "data": {
            "text/plain": [
              "     _latitude  _longitude  number_of_operators  number_of_available_trolleys  \\\n",
              "0    19.056893  -98.233489                  1.0                           1.0   \n",
              "1    19.056849  -98.233484                  2.0                           1.0   \n",
              "2    19.059677  -98.233916                  1.0                           0.0   \n",
              "3    19.062695  -98.228567                  1.0                           2.0   \n",
              "4    19.062724  -98.231397                  2.0                           2.0   \n",
              "..         ...         ...                  ...                           ...   \n",
              "177  19.043612  -98.194933                  1.0                           0.0   \n",
              "178  19.043607  -98.194856                  1.0                           0.0   \n",
              "179  19.043336  -98.194503                  1.0                           1.0   \n",
              "180  19.043576  -98.194873                  2.0                           0.0   \n",
              "181  19.043590  -98.194901                  2.0                           1.0   \n",
              "\n",
              "     serving_customer  describe_the_accident  \\\n",
              "0                 1.0                    NaN   \n",
              "1                 1.0                    NaN   \n",
              "2                 1.0                    NaN   \n",
              "3                 1.0                    NaN   \n",
              "4                 1.0                    NaN   \n",
              "..                ...                    ...   \n",
              "177               1.0                    NaN   \n",
              "178               1.0                    NaN   \n",
              "179               1.0                    NaN   \n",
              "180               1.0                    NaN   \n",
              "181               1.0                    NaN   \n",
              "\n",
              "     maximum_number_of_vehicles_in_the_traffic_jam  \n",
              "0                                              5.0  \n",
              "1                                              5.0  \n",
              "2                                              5.0  \n",
              "3                                              5.0  \n",
              "4                                              5.0  \n",
              "..                                             ...  \n",
              "177                                            5.0  \n",
              "178                                            5.0  \n",
              "179                                            5.0  \n",
              "180                                            5.0  \n",
              "181                                            5.0  \n",
              "\n",
              "[182 rows x 7 columns]"
            ],
            "text/html": [
              "\n",
              "  <div id=\"df-5209ac1b-1e6b-45b2-ac5a-d923883a5da3\">\n",
              "    <div class=\"colab-df-container\">\n",
              "      <div>\n",
              "<style scoped>\n",
              "    .dataframe tbody tr th:only-of-type {\n",
              "        vertical-align: middle;\n",
              "    }\n",
              "\n",
              "    .dataframe tbody tr th {\n",
              "        vertical-align: top;\n",
              "    }\n",
              "\n",
              "    .dataframe thead th {\n",
              "        text-align: right;\n",
              "    }\n",
              "</style>\n",
              "<table border=\"1\" class=\"dataframe\">\n",
              "  <thead>\n",
              "    <tr style=\"text-align: right;\">\n",
              "      <th></th>\n",
              "      <th>_latitude</th>\n",
              "      <th>_longitude</th>\n",
              "      <th>number_of_operators</th>\n",
              "      <th>number_of_available_trolleys</th>\n",
              "      <th>serving_customer</th>\n",
              "      <th>describe_the_accident</th>\n",
              "      <th>maximum_number_of_vehicles_in_the_traffic_jam</th>\n",
              "    </tr>\n",
              "  </thead>\n",
              "  <tbody>\n",
              "    <tr>\n",
              "      <th>0</th>\n",
              "      <td>19.056893</td>\n",
              "      <td>-98.233489</td>\n",
              "      <td>1.0</td>\n",
              "      <td>1.0</td>\n",
              "      <td>1.0</td>\n",
              "      <td>NaN</td>\n",
              "      <td>5.0</td>\n",
              "    </tr>\n",
              "    <tr>\n",
              "      <th>1</th>\n",
              "      <td>19.056849</td>\n",
              "      <td>-98.233484</td>\n",
              "      <td>2.0</td>\n",
              "      <td>1.0</td>\n",
              "      <td>1.0</td>\n",
              "      <td>NaN</td>\n",
              "      <td>5.0</td>\n",
              "    </tr>\n",
              "    <tr>\n",
              "      <th>2</th>\n",
              "      <td>19.059677</td>\n",
              "      <td>-98.233916</td>\n",
              "      <td>1.0</td>\n",
              "      <td>0.0</td>\n",
              "      <td>1.0</td>\n",
              "      <td>NaN</td>\n",
              "      <td>5.0</td>\n",
              "    </tr>\n",
              "    <tr>\n",
              "      <th>3</th>\n",
              "      <td>19.062695</td>\n",
              "      <td>-98.228567</td>\n",
              "      <td>1.0</td>\n",
              "      <td>2.0</td>\n",
              "      <td>1.0</td>\n",
              "      <td>NaN</td>\n",
              "      <td>5.0</td>\n",
              "    </tr>\n",
              "    <tr>\n",
              "      <th>4</th>\n",
              "      <td>19.062724</td>\n",
              "      <td>-98.231397</td>\n",
              "      <td>2.0</td>\n",
              "      <td>2.0</td>\n",
              "      <td>1.0</td>\n",
              "      <td>NaN</td>\n",
              "      <td>5.0</td>\n",
              "    </tr>\n",
              "    <tr>\n",
              "      <th>...</th>\n",
              "      <td>...</td>\n",
              "      <td>...</td>\n",
              "      <td>...</td>\n",
              "      <td>...</td>\n",
              "      <td>...</td>\n",
              "      <td>...</td>\n",
              "      <td>...</td>\n",
              "    </tr>\n",
              "    <tr>\n",
              "      <th>177</th>\n",
              "      <td>19.043612</td>\n",
              "      <td>-98.194933</td>\n",
              "      <td>1.0</td>\n",
              "      <td>0.0</td>\n",
              "      <td>1.0</td>\n",
              "      <td>NaN</td>\n",
              "      <td>5.0</td>\n",
              "    </tr>\n",
              "    <tr>\n",
              "      <th>178</th>\n",
              "      <td>19.043607</td>\n",
              "      <td>-98.194856</td>\n",
              "      <td>1.0</td>\n",
              "      <td>0.0</td>\n",
              "      <td>1.0</td>\n",
              "      <td>NaN</td>\n",
              "      <td>5.0</td>\n",
              "    </tr>\n",
              "    <tr>\n",
              "      <th>179</th>\n",
              "      <td>19.043336</td>\n",
              "      <td>-98.194503</td>\n",
              "      <td>1.0</td>\n",
              "      <td>1.0</td>\n",
              "      <td>1.0</td>\n",
              "      <td>NaN</td>\n",
              "      <td>5.0</td>\n",
              "    </tr>\n",
              "    <tr>\n",
              "      <th>180</th>\n",
              "      <td>19.043576</td>\n",
              "      <td>-98.194873</td>\n",
              "      <td>2.0</td>\n",
              "      <td>0.0</td>\n",
              "      <td>1.0</td>\n",
              "      <td>NaN</td>\n",
              "      <td>5.0</td>\n",
              "    </tr>\n",
              "    <tr>\n",
              "      <th>181</th>\n",
              "      <td>19.043590</td>\n",
              "      <td>-98.194901</td>\n",
              "      <td>2.0</td>\n",
              "      <td>1.0</td>\n",
              "      <td>1.0</td>\n",
              "      <td>NaN</td>\n",
              "      <td>5.0</td>\n",
              "    </tr>\n",
              "  </tbody>\n",
              "</table>\n",
              "<p>182 rows × 7 columns</p>\n",
              "</div>\n",
              "      <button class=\"colab-df-convert\" onclick=\"convertToInteractive('df-5209ac1b-1e6b-45b2-ac5a-d923883a5da3')\"\n",
              "              title=\"Convert this dataframe to an interactive table.\"\n",
              "              style=\"display:none;\">\n",
              "        \n",
              "  <svg xmlns=\"http://www.w3.org/2000/svg\" height=\"24px\"viewBox=\"0 0 24 24\"\n",
              "       width=\"24px\">\n",
              "    <path d=\"M0 0h24v24H0V0z\" fill=\"none\"/>\n",
              "    <path d=\"M18.56 5.44l.94 2.06.94-2.06 2.06-.94-2.06-.94-.94-2.06-.94 2.06-2.06.94zm-11 1L8.5 8.5l.94-2.06 2.06-.94-2.06-.94L8.5 2.5l-.94 2.06-2.06.94zm10 10l.94 2.06.94-2.06 2.06-.94-2.06-.94-.94-2.06-.94 2.06-2.06.94z\"/><path d=\"M17.41 7.96l-1.37-1.37c-.4-.4-.92-.59-1.43-.59-.52 0-1.04.2-1.43.59L10.3 9.45l-7.72 7.72c-.78.78-.78 2.05 0 2.83L4 21.41c.39.39.9.59 1.41.59.51 0 1.02-.2 1.41-.59l7.78-7.78 2.81-2.81c.8-.78.8-2.07 0-2.86zM5.41 20L4 18.59l7.72-7.72 1.47 1.35L5.41 20z\"/>\n",
              "  </svg>\n",
              "      </button>\n",
              "      \n",
              "  <style>\n",
              "    .colab-df-container {\n",
              "      display:flex;\n",
              "      flex-wrap:wrap;\n",
              "      gap: 12px;\n",
              "    }\n",
              "\n",
              "    .colab-df-convert {\n",
              "      background-color: #E8F0FE;\n",
              "      border: none;\n",
              "      border-radius: 50%;\n",
              "      cursor: pointer;\n",
              "      display: none;\n",
              "      fill: #1967D2;\n",
              "      height: 32px;\n",
              "      padding: 0 0 0 0;\n",
              "      width: 32px;\n",
              "    }\n",
              "\n",
              "    .colab-df-convert:hover {\n",
              "      background-color: #E2EBFA;\n",
              "      box-shadow: 0px 1px 2px rgba(60, 64, 67, 0.3), 0px 1px 3px 1px rgba(60, 64, 67, 0.15);\n",
              "      fill: #174EA6;\n",
              "    }\n",
              "\n",
              "    [theme=dark] .colab-df-convert {\n",
              "      background-color: #3B4455;\n",
              "      fill: #D2E3FC;\n",
              "    }\n",
              "\n",
              "    [theme=dark] .colab-df-convert:hover {\n",
              "      background-color: #434B5C;\n",
              "      box-shadow: 0px 1px 3px 1px rgba(0, 0, 0, 0.15);\n",
              "      filter: drop-shadow(0px 1px 2px rgba(0, 0, 0, 0.3));\n",
              "      fill: #FFFFFF;\n",
              "    }\n",
              "  </style>\n",
              "\n",
              "      <script>\n",
              "        const buttonEl =\n",
              "          document.querySelector('#df-5209ac1b-1e6b-45b2-ac5a-d923883a5da3 button.colab-df-convert');\n",
              "        buttonEl.style.display =\n",
              "          google.colab.kernel.accessAllowed ? 'block' : 'none';\n",
              "\n",
              "        async function convertToInteractive(key) {\n",
              "          const element = document.querySelector('#df-5209ac1b-1e6b-45b2-ac5a-d923883a5da3');\n",
              "          const dataTable =\n",
              "            await google.colab.kernel.invokeFunction('convertToInteractive',\n",
              "                                                     [key], {});\n",
              "          if (!dataTable) return;\n",
              "\n",
              "          const docLinkHtml = 'Like what you see? Visit the ' +\n",
              "            '<a target=\"_blank\" href=https://colab.research.google.com/notebooks/data_table.ipynb>data table notebook</a>'\n",
              "            + ' to learn more about interactive tables.';\n",
              "          element.innerHTML = '';\n",
              "          dataTable['output_type'] = 'display_data';\n",
              "          await google.colab.output.renderOutput(dataTable, element);\n",
              "          const docLink = document.createElement('div');\n",
              "          docLink.innerHTML = docLinkHtml;\n",
              "          element.appendChild(docLink);\n",
              "        }\n",
              "      </script>\n",
              "    </div>\n",
              "  </div>\n",
              "  "
            ]
          },
          "metadata": {},
          "execution_count": 31
        }
      ]
    },
    {
      "cell_type": "code",
      "source": [
        "y2=data4_iqr.copy()"
      ],
      "metadata": {
        "id": "xPNy_FubGxLb"
      },
      "execution_count": 33,
      "outputs": []
    },
    {
      "cell_type": "code",
      "source": [
        "#convertir a archivo csv\n",
        "y2.to_csv(\"lastmile_Sin_Outliers.csv\")"
      ],
      "metadata": {
        "id": "53AsMYDlG6Iq"
      },
      "execution_count": 35,
      "outputs": []
    },
    {
      "cell_type": "code",
      "source": [
        "#descargar archivo filtrado en csv\n",
        "from google.colab import files \n",
        "  \n",
        "files.download(\"lastmile_Sin_Outliers.csv\")"
      ],
      "metadata": {
        "colab": {
          "base_uri": "https://localhost:8080/",
          "height": 17
        },
        "id": "0XCsSJbjG_0E",
        "outputId": "b1c4e00a-d036-4c94-f9f3-b6d172604e48"
      },
      "execution_count": 37,
      "outputs": [
        {
          "output_type": "display_data",
          "data": {
            "text/plain": [
              "<IPython.core.display.Javascript object>"
            ],
            "application/javascript": [
              "\n",
              "    async function download(id, filename, size) {\n",
              "      if (!google.colab.kernel.accessAllowed) {\n",
              "        return;\n",
              "      }\n",
              "      const div = document.createElement('div');\n",
              "      const label = document.createElement('label');\n",
              "      label.textContent = `Downloading \"${filename}\": `;\n",
              "      div.appendChild(label);\n",
              "      const progress = document.createElement('progress');\n",
              "      progress.max = size;\n",
              "      div.appendChild(progress);\n",
              "      document.body.appendChild(div);\n",
              "\n",
              "      const buffers = [];\n",
              "      let downloaded = 0;\n",
              "\n",
              "      const channel = await google.colab.kernel.comms.open(id);\n",
              "      // Send a message to notify the kernel that we're ready.\n",
              "      channel.send({})\n",
              "\n",
              "      for await (const message of channel.messages) {\n",
              "        // Send a message to notify the kernel that we're ready.\n",
              "        channel.send({})\n",
              "        if (message.buffers) {\n",
              "          for (const buffer of message.buffers) {\n",
              "            buffers.push(buffer);\n",
              "            downloaded += buffer.byteLength;\n",
              "            progress.value = downloaded;\n",
              "          }\n",
              "        }\n",
              "      }\n",
              "      const blob = new Blob(buffers, {type: 'application/binary'});\n",
              "      const a = document.createElement('a');\n",
              "      a.href = window.URL.createObjectURL(blob);\n",
              "      a.download = filename;\n",
              "      div.appendChild(a);\n",
              "      a.click();\n",
              "      div.remove();\n",
              "    }\n",
              "  "
            ]
          },
          "metadata": {}
        },
        {
          "output_type": "display_data",
          "data": {
            "text/plain": [
              "<IPython.core.display.Javascript object>"
            ],
            "application/javascript": [
              "download(\"download_13c4c9e8-a2e3-4e8e-8b52-714daecaa082\", \"lastmile_Sin_Outliers.csv\", 8231)"
            ]
          },
          "metadata": {}
        }
      ]
    }
  ]
}